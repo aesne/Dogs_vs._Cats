{
 "cells": [
  {
   "cell_type": "markdown",
   "metadata": {},
   "source": [
    "导入所有需要的库。"
   ]
  },
  {
   "cell_type": "code",
   "execution_count": null,
   "metadata": {},
   "outputs": [],
   "source": [
    "import os\n",
    "from keras.preprocessing.image import ImageDataGenerator\n",
    "from keras.applications.xception import Xception\n",
    "import numpy\n",
    "from keras.models import Sequential\n",
    "from keras.layers.core import Flatten, Dense, Dropout\n",
    "from keras.callbacks import EarlyStopping\n",
    "from matplotlib import pyplot\n",
    "import csv\n",
    "\n",
    "%matplotlib inline"
   ]
  },
  {
   "cell_type": "markdown",
   "metadata": {},
   "source": [
    "设定需要的路径。当前目录 `./` 为该 jupyter notebook 文件、训练集和测试集数据所在目录。"
   ]
  },
  {
   "cell_type": "code",
   "execution_count": null,
   "metadata": {
    "collapsed": true
   },
   "outputs": [],
   "source": [
    "TRAIN_DIR = './train/'\n",
    "TRAIN_GEN_DIR = './train_gen/'\n",
    "\n",
    "DOGS_DIR = TRAIN_GEN_DIR + 'dogs/'\n",
    "CATS_DIR = TRAIN_GEN_DIR + 'cats/'\n",
    "\n",
    "IMAGENET_FEATURES = './imagenet_features.npy'\n",
    "MODEL = './model.h5'\n",
    "\n",
    "TEST_DIR = './test1/'\n",
    "SUBMISSION = './submission.csv'"
   ]
  },
  {
   "cell_type": "markdown",
   "metadata": {},
   "source": [
    "为 `ImageDataGenerator` 创建文件夹。"
   ]
  },
  {
   "cell_type": "code",
   "execution_count": null,
   "metadata": {},
   "outputs": [],
   "source": [
    "train_list = [name for name in os.listdir(TRAIN_DIR)]\n",
    "\n",
    "train_dogs = [name for name in train_list if 'dog' in name]\n",
    "train_cats = [name for name in train_list if 'cat' in name]\n",
    "\n",
    "os.makedirs(DOGS_DIR)\n",
    "os.makedirs(CATS_DIR)\n",
    "\n",
    "for name in train_dogs:\n",
    "    os.symlink(TRAIN_DIR+name, DOGS_DIR+name)    \n",
    "for name in train_cats:\n",
    "    os.symlink(TRAIN_DIR+name, CATS_DIR+name)"
   ]
  },
  {
   "cell_type": "code",
   "execution_count": null,
   "metadata": {},
   "outputs": [],
   "source": [
    "idg = ImageDataGenerator(rotation_range=40,\n",
    "        width_shift_range=0.2,\n",
    "        height_shift_range=0.2,\n",
    "        shear_range=0.2,\n",
    "        zoom_range=0.2,\n",
    "        horizontal_flip=True,\n",
    "        rescale=1./255)\n",
    "x = idg.flow_from_directory(directory=TRAIN_GEN_DIR, target_size=(299, 299))"
   ]
  },
  {
   "cell_type": "code",
   "execution_count": null,
   "metadata": {},
   "outputs": [],
   "source": [
    "base_model = Xception(include_top=False)\n",
    "\n",
    "features = base_model.predict_generator(x, 150000)\n",
    "\n",
    "numpy.save(open(IMAGENET_FEATURES, 'w'), features)\n",
    "\n",
    "del base_model"
   ]
  },
  {
   "cell_type": "code",
   "execution_count": null,
   "metadata": {
    "collapsed": true
   },
   "outputs": [],
   "source": [
    "features = numpy.load(open(IMAGENET_FEATURES))\n",
    "\n",
    "model = Sequential()\n",
    "model.add(Flatten())\n",
    "model.add(Dense(256, activation='relu'))\n",
    "model.add(Dropout(0.5))\n",
    "model.add(Dense(2, activation='softmax'))\n",
    "\n",
    "model.compile(optimizer='nadam', loss='binary_crossentropy', metrics=['accuracy'])\n",
    "\n",
    "es = EarlyStopping(monitor='val_loss', patience=3)\n",
    "\n",
    "history = model.fit(x=features, y=y, batch_size=128, epochs=50, callbacks=[es], validation_split=0.2)"
   ]
  },
  {
   "cell_type": "code",
   "execution_count": null,
   "metadata": {
    "collapsed": true
   },
   "outputs": [],
   "source": [
    "loss = history.history['loss']\n",
    "val_loss = history.history['val_loss']\n",
    "\n",
    "acc = history.history['acc']\n",
    "val_acc = history.history['val_acc']\n",
    "\n",
    "pyplot.figure(figsize=(8,6))\n",
    "pyplot.subplots_adjust(wspace=1, hspace=1)\n",
    "\n",
    "pyplot.subplot(211)\n",
    "pyplot.plot(loss, 'blue', label='Training Loss')\n",
    "pyplot.plot(val_loss, 'green', label='Validation Loss')\n",
    "pyplot.xlabel('Epochs')\n",
    "pyplot.ylabel('Loss')\n",
    "pyplot.title('Xception Loss Trend')\n",
    "pyplot.legend()\n",
    "\n",
    "pyplot.subplot(212)\n",
    "pyplot.plot(acc, 'blue', label='Training Accuracy')\n",
    "pyplot.plot(val_acc, 'green', label='Validation Accuracy')\n",
    "pyplot.xlabel('Epochs')\n",
    "pyplot.ylabel('Accuracy')\n",
    "pyplot.title('Xception Accuracy Trend')\n",
    "pyplot.legend()\n",
    "\n",
    "pyplot.show()"
   ]
  },
  {
   "cell_type": "code",
   "execution_count": null,
   "metadata": {
    "collapsed": true
   },
   "outputs": [],
   "source": [
    "model.save(MODEL)\n",
    "\n",
    "del model"
   ]
  },
  {
   "cell_type": "code",
   "execution_count": null,
   "metadata": {
    "collapsed": true
   },
   "outputs": [],
   "source": [
    "model = load_model(MODEL)\n",
    "\n",
    "gen = ImageDataGenerator()\n",
    "x_test = gen.flow_from_directory(directory=TEST_DIR, target_size=(299, 299), shuffle=False)\n",
    "\n",
    "y_test = model.predict_generator(x_test)\n",
    "\n",
    "\n",
    "file = open(SUBMISSION, 'wb')\n",
    "writer = csv.writer(file)\n",
    "writer.writerow(['id','label'])\n",
    "\n",
    "for index, label in enumerate(y_test):\n",
    "    writer.writerow([index, label])\n",
    "\n",
    "file.close()"
   ]
  }
 ],
 "metadata": {
  "kernelspec": {
   "display_name": "Python 3",
   "language": "python",
   "name": "python3"
  },
  "language_info": {
   "codemirror_mode": {
    "name": "ipython",
    "version": 3
   },
   "file_extension": ".py",
   "mimetype": "text/x-python",
   "name": "python",
   "nbconvert_exporter": "python",
   "pygments_lexer": "ipython3",
   "version": "3.5.3"
  }
 },
 "nbformat": 4,
 "nbformat_minor": 2
}
