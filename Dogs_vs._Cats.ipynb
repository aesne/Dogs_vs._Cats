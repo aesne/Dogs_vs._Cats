{
 "cells": [
  {
   "cell_type": "markdown",
   "metadata": {},
   "source": [
    "# 查看数据形式，并读取数据"
   ]
  },
  {
   "cell_type": "code",
   "execution_count": 34,
   "metadata": {},
   "outputs": [
    {
     "name": "stdout",
     "output_type": "stream",
     "text": [
      "name: cat.8705.jpg\n",
      "shape: (226L, 275L, 3L)\n",
      "type: uint8\n",
      "\n",
      "name: dog.7364.jpg\n",
      "shape: (375L, 499L, 3L)\n",
      "type: uint8\n",
      "\n",
      "name: dog.6690.jpg\n",
      "shape: (195L, 259L, 3L)\n",
      "type: uint8\n",
      "\n",
      "name: cat.2176.jpg\n",
      "shape: (412L, 323L, 3L)\n",
      "type: uint8\n",
      "\n",
      "name: cat.8304.jpg\n",
      "shape: (374L, 500L, 3L)\n",
      "type: uint8\n",
      "\n"
     ]
    }
   ],
   "source": [
    "import os\n",
    "import random\n",
    "from scipy import misc\n",
    "\n",
    "train_path = './train/'\n",
    "test_path = './test1/'\n",
    "\n",
    "train_names = os.listdir(train_path)\n",
    "test_names = os.listdir(test_path)\n",
    "\n",
    "for i in range(5):\n",
    "    sample = random.choice(train_names)\n",
    "    image = misc.imread(train_path+sample)\n",
    "    print('name: {}'.format(sample))\n",
    "    print('shape: {}'.format(image.shape))\n",
    "    print('type: {}\\n'.format(image.dtype))\n",
    "    "
   ]
  }
 ],
 "metadata": {
  "kernelspec": {
   "display_name": "Python 2",
   "language": "python",
   "name": "python2"
  },
  "language_info": {
   "codemirror_mode": {
    "name": "ipython",
    "version": 2
   },
   "file_extension": ".py",
   "mimetype": "text/x-python",
   "name": "python",
   "nbconvert_exporter": "python",
   "pygments_lexer": "ipython2",
   "version": "2.7.13"
  }
 },
 "nbformat": 4,
 "nbformat_minor": 2
}
